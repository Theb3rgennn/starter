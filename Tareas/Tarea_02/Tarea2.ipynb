{
  "nbformat": 4,
  "nbformat_minor": 0,
  "metadata": {
    "colab": {
      "provenance": []
    },
    "kernelspec": {
      "name": "python3",
      "display_name": "Python 3"
    },
    "language_info": {
      "name": "python"
    }
  },
  "cells": [
    {
      "cell_type": "markdown",
      "source": [
        "#**Tarea 2**\n",
        "\n",
        "Aline Bergen"
      ],
      "metadata": {
        "id": "ZesRv-TZpDde"
      }
    },
    {
      "cell_type": "markdown",
      "source": [
        "###Problema 1\n",
        "\n",
        "Hacer un programa que imprima los números del 1 al 100."
      ],
      "metadata": {
        "id": "wL58lWqyrQz6"
      }
    },
    {
      "cell_type": "code",
      "source": [
        "#suma de los números del 1 al 100\n",
        "\n",
        "for i in range(1,101):\n",
        "  print(i)\n"
      ],
      "metadata": {
        "colab": {
          "base_uri": "https://localhost:8080/"
        },
        "id": "NGLTYSnTpKTu",
        "outputId": "6706a7dc-a7da-49e8-a1d9-1ddfa4920cb6"
      },
      "execution_count": null,
      "outputs": [
        {
          "output_type": "stream",
          "name": "stdout",
          "text": [
            "1\n",
            "2\n",
            "3\n",
            "4\n",
            "5\n",
            "6\n",
            "7\n",
            "8\n",
            "9\n",
            "10\n",
            "11\n",
            "12\n",
            "13\n",
            "14\n",
            "15\n",
            "16\n",
            "17\n",
            "18\n",
            "19\n",
            "20\n",
            "21\n",
            "22\n",
            "23\n",
            "24\n",
            "25\n",
            "26\n",
            "27\n",
            "28\n",
            "29\n",
            "30\n",
            "31\n",
            "32\n",
            "33\n",
            "34\n",
            "35\n",
            "36\n",
            "37\n",
            "38\n",
            "39\n",
            "40\n",
            "41\n",
            "42\n",
            "43\n",
            "44\n",
            "45\n",
            "46\n",
            "47\n",
            "48\n",
            "49\n",
            "50\n",
            "51\n",
            "52\n",
            "53\n",
            "54\n",
            "55\n",
            "56\n",
            "57\n",
            "58\n",
            "59\n",
            "60\n",
            "61\n",
            "62\n",
            "63\n",
            "64\n",
            "65\n",
            "66\n",
            "67\n",
            "68\n",
            "69\n",
            "70\n",
            "71\n",
            "72\n",
            "73\n",
            "74\n",
            "75\n",
            "76\n",
            "77\n",
            "78\n",
            "79\n",
            "80\n",
            "81\n",
            "82\n",
            "83\n",
            "84\n",
            "85\n",
            "86\n",
            "87\n",
            "88\n",
            "89\n",
            "90\n",
            "91\n",
            "92\n",
            "93\n",
            "94\n",
            "95\n",
            "96\n",
            "97\n",
            "98\n",
            "99\n",
            "100\n"
          ]
        }
      ]
    },
    {
      "cell_type": "markdown",
      "source": [
        "###Problema 2\n",
        "\n",
        "Hacer un programa que imprima los números del 1 al 100 que sean divisibles entre 3 (con resto 0)"
      ],
      "metadata": {
        "id": "xL0zo5SOrZmt"
      }
    },
    {
      "cell_type": "code",
      "source": [
        "# números del 1 al 100 que son divisibles entre 3\n",
        "\n",
        "for numero in range(1,101):\n",
        "  if numero % 3==0:\n",
        "    print(numero)\n"
      ],
      "metadata": {
        "colab": {
          "base_uri": "https://localhost:8080/"
        },
        "id": "Vu0GixoPrgOK",
        "outputId": "42df83f2-0c24-4935-a905-a4f7b4e9404c"
      },
      "execution_count": null,
      "outputs": [
        {
          "output_type": "stream",
          "name": "stdout",
          "text": [
            "3\n",
            "6\n",
            "9\n",
            "12\n",
            "15\n",
            "18\n",
            "21\n",
            "24\n",
            "27\n",
            "30\n",
            "33\n",
            "36\n",
            "39\n",
            "42\n",
            "45\n",
            "48\n",
            "51\n",
            "54\n",
            "57\n",
            "60\n",
            "63\n",
            "66\n",
            "69\n",
            "72\n",
            "75\n",
            "78\n",
            "81\n",
            "84\n",
            "87\n",
            "90\n",
            "93\n",
            "96\n",
            "99\n"
          ]
        }
      ]
    },
    {
      "cell_type": "markdown",
      "source": [
        "###Problema 3\n",
        "Pseudocódigo, Sumador y comparador de dos números"
      ],
      "metadata": {
        "id": "dBNCS_W0tzsO"
      }
    },
    {
      "cell_type": "code",
      "source": [
        "#variables\n",
        "numero = 56\n",
        "numero2 = 335\n",
        "\n",
        "suma = numero + numero2\n",
        "print(suma)\n",
        "\n",
        "if suma <100:\n",
        "  print('la suma es menor a 100')\n",
        "elif suma > 100 and suma < 150:\n",
        "  print('la suma es mayor que 100 y menos que 150')\n",
        "else:\n",
        "  if suma >150:\n",
        "    print('la suma es mayor a 150')"
      ],
      "metadata": {
        "colab": {
          "base_uri": "https://localhost:8080/"
        },
        "id": "c1zWn_Bgjl1d",
        "outputId": "1bd942ae-50ca-4bc7-a5e9-d9d93581c3c7"
      },
      "execution_count": null,
      "outputs": [
        {
          "output_type": "stream",
          "name": "stdout",
          "text": [
            "391\n",
            "la suma es mayor a 150\n"
          ]
        }
      ]
    },
    {
      "cell_type": "code",
      "source": [
        "Inicio\n",
        "\n",
        "#Definir variables\n",
        " Leer numero = 56\n",
        " Leer numero2 = 335\n",
        "suma = numero + numero2\n",
        "Imprimir(suma)\n",
        "\n",
        "#Estructura para verificar el valor de la suma\n",
        "Si suma es menos que 100 entonces\n",
        "  Imprimir('la suma es menor a 100')\n",
        "Si no si suma es mayor que 100 y menor que 150 entonces\n",
        "  Imprimir('la suma es mayor que 100 y menor que 150')\n",
        "Si no\n",
        "    si suma es mayor que 150 entonces\n",
        "      Imprimir('la suma es mayor a 150')\n",
        "Fin Si"
      ],
      "metadata": {
        "colab": {
          "base_uri": "https://localhost:8080/",
          "height": 106
        },
        "id": "Rz3uM16qeMjf",
        "outputId": "57958d89-7751-4a38-c956-769c31009309"
      },
      "execution_count": null,
      "outputs": [
        {
          "output_type": "error",
          "ename": "IndentationError",
          "evalue": "unexpected indent (<ipython-input-2-bfa87d6d6827>, line 3)",
          "traceback": [
            "\u001b[0;36m  File \u001b[0;32m\"<ipython-input-2-bfa87d6d6827>\"\u001b[0;36m, line \u001b[0;32m3\u001b[0m\n\u001b[0;31m    Leer numero = 56\u001b[0m\n\u001b[0m    ^\u001b[0m\n\u001b[0;31mIndentationError\u001b[0m\u001b[0;31m:\u001b[0m unexpected indent\n"
          ]
        }
      ]
    },
    {
      "cell_type": "markdown",
      "source": [
        "###Problema 4\n",
        "Pseudocódigo\n"
      ],
      "metadata": {
        "id": "i0fJtF9Az8S9"
      }
    },
    {
      "cell_type": "code",
      "source": [
        "#variable\n",
        "edad = 78\n",
        "programar = 'si'\n",
        "\n",
        "if edad >18 and programar == 'no':\n",
        "  print('es mayor de edad y no le gusta programar')\n",
        "elif edad >18 and programar == 'si':\n",
        "    print('es mayor de edad y le gusta programar')\n",
        "else:\n",
        "  if edad <18 and programar == 'no':\n",
        "    print('es menor de edad y no le gusta programar')\n",
        "  elif edad <18 and programar == 'si':\n",
        "    print('es menor de edad y le gusta programar')"
      ],
      "metadata": {
        "colab": {
          "base_uri": "https://localhost:8080/"
        },
        "id": "VXTMQ253z5W0",
        "outputId": "8a00f57f-32ad-4733-d8a2-bec060830af2"
      },
      "execution_count": null,
      "outputs": [
        {
          "output_type": "stream",
          "name": "stdout",
          "text": [
            "es mayor de edad y le gusta programar\n"
          ]
        }
      ]
    },
    {
      "cell_type": "code",
      "source": [
        "INICIO\n",
        "\n",
        "#Definir variables\n",
        "Leer edad = 78\n",
        "Leer programar = 'si'\n",
        "\n",
        "#Estructura\n",
        "Si edad es mayor que 18 y programar es 'no' entonces\n",
        "  Imprimir('es mayor de edad y no le gusta programar')\n",
        "Si no si edad es mayor que 18 y programar es igual a  'si' entonces\n",
        "  Imprimir('es mayor de edad y le gusta programar')\n",
        "Si no\n",
        "  Si edad es menor que 18 y programar es igual a 'no' entonces\n",
        "    Imprimir('es menor de edad y no le gusta programar')\n",
        "  Si no si edad es menor que 18 y programar es igual a 'si' entonces\n",
        "    Imprimir('es menor de edad y le gusta programar')\n",
        "FIN SI"
      ],
      "metadata": {
        "id": "rOHkHlp5iLH_"
      },
      "execution_count": null,
      "outputs": []
    }
  ]
}